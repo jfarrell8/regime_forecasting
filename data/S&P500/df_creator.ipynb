{
 "cells": [
  {
   "cell_type": "code",
   "execution_count": 1,
   "metadata": {},
   "outputs": [],
   "source": [
    "from bs4 import BeautifulSoup\n",
    "import pandas as pd"
   ]
  },
  {
   "cell_type": "code",
   "execution_count": 9,
   "metadata": {},
   "outputs": [],
   "source": [
    "with open(r\"C:\\Users\\Admin\\Desktop\\divyield.txt\", 'r') as f:\n",
    "    html = f.read()"
   ]
  },
  {
   "cell_type": "code",
   "execution_count": 10,
   "metadata": {},
   "outputs": [
    {
     "name": "stdout",
     "output_type": "stream",
     "text": [
      "              Date       Value\n",
      "0     Oct 28, 2024  â€ \\n1.26%\n",
      "1     Oct 31, 2024  â€ \\n1.28%\n",
      "2     Sep 30, 2024  â€‚\\n1.31%\n",
      "3     Aug 31, 2024  â€‚\\n1.33%\n",
      "4     Jul 31, 2024  â€‚\\n1.31%\n",
      "...            ...         ...\n",
      "1842  May 31, 1871  â€‚\\n5.35%\n",
      "1843  Apr 30, 1871  â€‚\\n5.49%\n",
      "1844  Mar 31, 1871  â€‚\\n5.64%\n",
      "1845  Feb 28, 1871  â€‚\\n5.78%\n",
      "1846  Jan 31, 1871  â€‚\\n5.86%\n",
      "\n",
      "[1847 rows x 2 columns]\n"
     ]
    }
   ],
   "source": [
    "# Parse HTML\n",
    "soup = BeautifulSoup(html, 'html.parser')\n",
    "\n",
    "# Extract table rows\n",
    "rows = soup.find_all('tr')[1:]  # Skip header row\n",
    "\n",
    "# Extract data\n",
    "data = []\n",
    "for row in rows:\n",
    "    date = row.find_all('td')[0].text.strip()\n",
    "    value = row.find_all('td')[1].text.strip()\n",
    "    data.append([date, value])\n",
    "\n",
    "# Create DataFrame\n",
    "df = pd.DataFrame(data, columns=['Date', 'Value'])\n",
    "\n",
    "# Display DataFrame\n",
    "print(df)\n"
   ]
  },
  {
   "cell_type": "code",
   "execution_count": 11,
   "metadata": {},
   "outputs": [],
   "source": [
    "# Step 1: Remove unwanted characters and extra whitespace\n",
    "df['Value'] = df['Value'].str.replace(r'[^0-9.%]', '', regex=True)\n",
    "\n",
    "# Step 2: Strip any remaining whitespace and ensure percentages are cleanly formatted\n",
    "df['Value'] = df['Value'].str.strip()"
   ]
  },
  {
   "cell_type": "code",
   "execution_count": 13,
   "metadata": {},
   "outputs": [
    {
     "data": {
      "text/html": [
       "<div>\n",
       "<style scoped>\n",
       "    .dataframe tbody tr th:only-of-type {\n",
       "        vertical-align: middle;\n",
       "    }\n",
       "\n",
       "    .dataframe tbody tr th {\n",
       "        vertical-align: top;\n",
       "    }\n",
       "\n",
       "    .dataframe thead th {\n",
       "        text-align: right;\n",
       "    }\n",
       "</style>\n",
       "<table border=\"1\" class=\"dataframe\">\n",
       "  <thead>\n",
       "    <tr style=\"text-align: right;\">\n",
       "      <th></th>\n",
       "      <th>Date</th>\n",
       "      <th>Value</th>\n",
       "    </tr>\n",
       "  </thead>\n",
       "  <tbody>\n",
       "    <tr>\n",
       "      <th>0</th>\n",
       "      <td>Oct 28, 2024</td>\n",
       "      <td>1.26%</td>\n",
       "    </tr>\n",
       "    <tr>\n",
       "      <th>1</th>\n",
       "      <td>Oct 31, 2024</td>\n",
       "      <td>1.28%</td>\n",
       "    </tr>\n",
       "    <tr>\n",
       "      <th>2</th>\n",
       "      <td>Sep 30, 2024</td>\n",
       "      <td>1.31%</td>\n",
       "    </tr>\n",
       "    <tr>\n",
       "      <th>3</th>\n",
       "      <td>Aug 31, 2024</td>\n",
       "      <td>1.33%</td>\n",
       "    </tr>\n",
       "    <tr>\n",
       "      <th>4</th>\n",
       "      <td>Jul 31, 2024</td>\n",
       "      <td>1.31%</td>\n",
       "    </tr>\n",
       "    <tr>\n",
       "      <th>...</th>\n",
       "      <td>...</td>\n",
       "      <td>...</td>\n",
       "    </tr>\n",
       "    <tr>\n",
       "      <th>1842</th>\n",
       "      <td>May 31, 1871</td>\n",
       "      <td>5.35%</td>\n",
       "    </tr>\n",
       "    <tr>\n",
       "      <th>1843</th>\n",
       "      <td>Apr 30, 1871</td>\n",
       "      <td>5.49%</td>\n",
       "    </tr>\n",
       "    <tr>\n",
       "      <th>1844</th>\n",
       "      <td>Mar 31, 1871</td>\n",
       "      <td>5.64%</td>\n",
       "    </tr>\n",
       "    <tr>\n",
       "      <th>1845</th>\n",
       "      <td>Feb 28, 1871</td>\n",
       "      <td>5.78%</td>\n",
       "    </tr>\n",
       "    <tr>\n",
       "      <th>1846</th>\n",
       "      <td>Jan 31, 1871</td>\n",
       "      <td>5.86%</td>\n",
       "    </tr>\n",
       "  </tbody>\n",
       "</table>\n",
       "<p>1847 rows × 2 columns</p>\n",
       "</div>"
      ],
      "text/plain": [
       "              Date  Value\n",
       "0     Oct 28, 2024  1.26%\n",
       "1     Oct 31, 2024  1.28%\n",
       "2     Sep 30, 2024  1.31%\n",
       "3     Aug 31, 2024  1.33%\n",
       "4     Jul 31, 2024  1.31%\n",
       "...            ...    ...\n",
       "1842  May 31, 1871  5.35%\n",
       "1843  Apr 30, 1871  5.49%\n",
       "1844  Mar 31, 1871  5.64%\n",
       "1845  Feb 28, 1871  5.78%\n",
       "1846  Jan 31, 1871  5.86%\n",
       "\n",
       "[1847 rows x 2 columns]"
      ]
     },
     "execution_count": 13,
     "metadata": {},
     "output_type": "execute_result"
    }
   ],
   "source": [
    "df"
   ]
  },
  {
   "cell_type": "code",
   "execution_count": null,
   "metadata": {},
   "outputs": [],
   "source": []
  },
  {
   "cell_type": "code",
   "execution_count": 14,
   "metadata": {},
   "outputs": [],
   "source": [
    "df.to_csv(r\"C:\\Users\\Admin\\Desktop\\GitHubPortfolio\\RegimeForecasting\\data\\S&P500\\SP500_divyield.csv\", index=False)"
   ]
  },
  {
   "cell_type": "code",
   "execution_count": null,
   "metadata": {},
   "outputs": [],
   "source": []
  },
  {
   "cell_type": "code",
   "execution_count": 15,
   "metadata": {},
   "outputs": [],
   "source": [
    "with open(r\"C:\\Users\\Admin\\Desktop\\sp500pe.txt\", 'r') as f:\n",
    "    html = f.read()"
   ]
  },
  {
   "cell_type": "code",
   "execution_count": 16,
   "metadata": {},
   "outputs": [
    {
     "name": "stdout",
     "output_type": "stream",
     "text": [
      "              Date       Value\n",
      "0     Oct 28, 2024  â€ \\n29.74\n",
      "1      Oct 1, 2024  â€ \\n29.38\n",
      "2      Sep 1, 2024  â€ \\n28.69\n",
      "3      Aug 1, 2024  â€ \\n27.96\n",
      "4      Jul 1, 2024  â€ \\n28.27\n",
      "...            ...         ...\n",
      "1842   May 1, 1871  â€‚\\n12.15\n",
      "1843   Apr 1, 1871  â€‚\\n11.85\n",
      "1844   Mar 1, 1871  â€‚\\n11.52\n",
      "1845   Feb 1, 1871  â€‚\\n11.25\n",
      "1846   Jan 1, 1871  â€‚\\n11.10\n",
      "\n",
      "[1847 rows x 2 columns]\n"
     ]
    }
   ],
   "source": [
    "# Parse HTML\n",
    "soup = BeautifulSoup(html, 'html.parser')\n",
    "\n",
    "# Extract table rows\n",
    "rows = soup.find_all('tr')[1:]  # Skip header row\n",
    "\n",
    "# Extract data\n",
    "data = []\n",
    "for row in rows:\n",
    "    date = row.find_all('td')[0].text.strip()\n",
    "    value = row.find_all('td')[1].text.strip()\n",
    "    data.append([date, value])\n",
    "\n",
    "# Create DataFrame\n",
    "df = pd.DataFrame(data, columns=['Date', 'Value'])\n",
    "\n",
    "# Display DataFrame\n",
    "print(df)\n"
   ]
  },
  {
   "cell_type": "code",
   "execution_count": 17,
   "metadata": {},
   "outputs": [],
   "source": [
    "# Step 1: Remove unwanted characters and extra whitespace\n",
    "df['Value'] = df['Value'].str.replace(r'[^0-9.%]', '', regex=True)\n",
    "\n",
    "# Step 2: Strip any remaining whitespace and ensure percentages are cleanly formatted\n",
    "df['Value'] = df['Value'].str.strip()"
   ]
  },
  {
   "cell_type": "code",
   "execution_count": 18,
   "metadata": {},
   "outputs": [
    {
     "data": {
      "text/html": [
       "<div>\n",
       "<style scoped>\n",
       "    .dataframe tbody tr th:only-of-type {\n",
       "        vertical-align: middle;\n",
       "    }\n",
       "\n",
       "    .dataframe tbody tr th {\n",
       "        vertical-align: top;\n",
       "    }\n",
       "\n",
       "    .dataframe thead th {\n",
       "        text-align: right;\n",
       "    }\n",
       "</style>\n",
       "<table border=\"1\" class=\"dataframe\">\n",
       "  <thead>\n",
       "    <tr style=\"text-align: right;\">\n",
       "      <th></th>\n",
       "      <th>Date</th>\n",
       "      <th>Value</th>\n",
       "    </tr>\n",
       "  </thead>\n",
       "  <tbody>\n",
       "    <tr>\n",
       "      <th>0</th>\n",
       "      <td>Oct 28, 2024</td>\n",
       "      <td>29.74</td>\n",
       "    </tr>\n",
       "    <tr>\n",
       "      <th>1</th>\n",
       "      <td>Oct 1, 2024</td>\n",
       "      <td>29.38</td>\n",
       "    </tr>\n",
       "    <tr>\n",
       "      <th>2</th>\n",
       "      <td>Sep 1, 2024</td>\n",
       "      <td>28.69</td>\n",
       "    </tr>\n",
       "    <tr>\n",
       "      <th>3</th>\n",
       "      <td>Aug 1, 2024</td>\n",
       "      <td>27.96</td>\n",
       "    </tr>\n",
       "    <tr>\n",
       "      <th>4</th>\n",
       "      <td>Jul 1, 2024</td>\n",
       "      <td>28.27</td>\n",
       "    </tr>\n",
       "    <tr>\n",
       "      <th>...</th>\n",
       "      <td>...</td>\n",
       "      <td>...</td>\n",
       "    </tr>\n",
       "    <tr>\n",
       "      <th>1842</th>\n",
       "      <td>May 1, 1871</td>\n",
       "      <td>12.15</td>\n",
       "    </tr>\n",
       "    <tr>\n",
       "      <th>1843</th>\n",
       "      <td>Apr 1, 1871</td>\n",
       "      <td>11.85</td>\n",
       "    </tr>\n",
       "    <tr>\n",
       "      <th>1844</th>\n",
       "      <td>Mar 1, 1871</td>\n",
       "      <td>11.52</td>\n",
       "    </tr>\n",
       "    <tr>\n",
       "      <th>1845</th>\n",
       "      <td>Feb 1, 1871</td>\n",
       "      <td>11.25</td>\n",
       "    </tr>\n",
       "    <tr>\n",
       "      <th>1846</th>\n",
       "      <td>Jan 1, 1871</td>\n",
       "      <td>11.10</td>\n",
       "    </tr>\n",
       "  </tbody>\n",
       "</table>\n",
       "<p>1847 rows × 2 columns</p>\n",
       "</div>"
      ],
      "text/plain": [
       "              Date  Value\n",
       "0     Oct 28, 2024  29.74\n",
       "1      Oct 1, 2024  29.38\n",
       "2      Sep 1, 2024  28.69\n",
       "3      Aug 1, 2024  27.96\n",
       "4      Jul 1, 2024  28.27\n",
       "...            ...    ...\n",
       "1842   May 1, 1871  12.15\n",
       "1843   Apr 1, 1871  11.85\n",
       "1844   Mar 1, 1871  11.52\n",
       "1845   Feb 1, 1871  11.25\n",
       "1846   Jan 1, 1871  11.10\n",
       "\n",
       "[1847 rows x 2 columns]"
      ]
     },
     "execution_count": 18,
     "metadata": {},
     "output_type": "execute_result"
    }
   ],
   "source": [
    "df"
   ]
  },
  {
   "cell_type": "code",
   "execution_count": 19,
   "metadata": {},
   "outputs": [],
   "source": [
    "df.to_csv(r\"C:\\Users\\Admin\\Desktop\\GitHubPortfolio\\RegimeForecasting\\data\\S&P500\\SP500_PE.csv\", index=False)"
   ]
  },
  {
   "cell_type": "code",
   "execution_count": null,
   "metadata": {},
   "outputs": [],
   "source": []
  }
 ],
 "metadata": {
  "kernelspec": {
   "display_name": "Python 3",
   "language": "python",
   "name": "python3"
  },
  "language_info": {
   "codemirror_mode": {
    "name": "ipython",
    "version": 3
   },
   "file_extension": ".py",
   "mimetype": "text/x-python",
   "name": "python",
   "nbconvert_exporter": "python",
   "pygments_lexer": "ipython3",
   "version": "3.10.9"
  }
 },
 "nbformat": 4,
 "nbformat_minor": 2
}
